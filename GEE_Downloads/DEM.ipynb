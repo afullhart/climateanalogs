{
  "nbformat": 4,
  "nbformat_minor": 0,
  "metadata": {
    "colab": {
      "provenance": [],
      "authorship_tag": "ABX9TyOjqSicl/RG96vL/hcXPFO3"
    },
    "kernelspec": {
      "name": "python3",
      "display_name": "Python 3"
    },
    "language_info": {
      "name": "python"
    }
  },
  "cells": [
    {
      "cell_type": "code",
      "execution_count": null,
      "metadata": {
        "id": "AfovpECE97dx"
      },
      "outputs": [],
      "source": [
        "%reset -f\n",
        "'HELLO'"
      ]
    },
    {
      "cell_type": "code",
      "source": [
        "from google.colab import drive\n",
        "drive.mount('/content/drive')\n",
        "import ee\n",
        "ee.Authenticate()\n"
      ],
      "metadata": {
        "id": "EyrZ_sTU-AHG",
        "colab": {
          "base_uri": "https://localhost:8080/"
        },
        "outputId": "58736af0-3eda-48af-d76b-ffbbf8c27a3f"
      },
      "execution_count": null,
      "outputs": [
        {
          "output_type": "stream",
          "name": "stdout",
          "text": [
            "Mounted at /content/drive\n"
          ]
        }
      ]
    },
    {
      "cell_type": "code",
      "source": [
        "import ee\n",
        "\n",
        "ee.Initialize(project='ee-andrewfullhart')\n",
        "\n",
        "nex_im = ee.ImageCollection('NASA/NEX-DCP30').first()\n",
        "scale = nex_im.projection().nominalScale().getInfo()\n",
        "\n",
        "area_shp = ee.Geometry.Rectangle([-121, 30, -102, 43], 'EPSG:4326', False)\n",
        "\n",
        "orig_proj = ee.ImageCollection('JAXA/ALOS/AW3D30/V3_2').filterBounds(area_shp).first().projection()\n",
        "elev_im = ee.ImageCollection('JAXA/ALOS/AW3D30/V3_2').select('DSM').mosaic().setDefaultProjection(orig_proj)\n",
        "proj = elev_im.projection().getInfo()\n",
        "\n",
        "transform = [\n",
        "  proj['transform'][0],\n",
        "  proj['transform'][1],\n",
        "  proj['transform'][2],\n",
        "  proj['transform'][3],\n",
        "  proj['transform'][4],\n",
        "  proj['transform'][5],\n",
        "]\n",
        "\n",
        "transform_new = [\n",
        "  0.0083333333,\n",
        "  proj['transform'][1],\n",
        "  proj['transform'][2],\n",
        "  proj['transform'][3],\n",
        "  0.0083333333,\n",
        "  proj['transform'][5],\n",
        "]\n",
        "\n",
        "proj = elev_im.projection()\n",
        "\n",
        "e_elev_im = elev_im.setDefaultProjection('EPSG:4326', transform)\n",
        "e_elev_im = e_elev_im.reproject(crs=proj.crs(), crsTransform=transform_new)\n",
        "e_elev_im = e_elev_im.clip(area_shp)\n",
        "\n",
        "slope_im = ee.Terrain.slope(elev_im)\n",
        "e_slope_im = slope_im.setDefaultProjection('EPSG:4326', transform)\n",
        "e_slope_im = e_slope_im.reproject(crs=proj.crs(), crsTransform=transform_new)\n",
        "e_slope_im = e_slope_im.clip(area_shp)\n",
        "\n",
        "\n",
        "task = ee.batch.Export.image.toDrive(\n",
        "  image=e_elev_im,\n",
        "  description='Elev',\n",
        "  folder='GEE_Downloads',\n",
        "  region=area_shp,\n",
        "  scale=scale,\n",
        "  crs='EPSG:4326',\n",
        "  maxPixels=1e13)\n",
        "\n",
        "task.start()\n",
        "\n",
        "task = ee.batch.Export.image.toDrive(\n",
        "  image=e_slope_im,\n",
        "  description='Slope',\n",
        "  folder='GEE_Downloads',\n",
        "  region=area_shp,\n",
        "  scale=scale,\n",
        "  crs='EPSG:4326',\n",
        "  maxPixels=1e13)\n",
        "\n",
        "task.start()\n"
      ],
      "metadata": {
        "id": "umrwMh4V-AWM"
      },
      "execution_count": null,
      "outputs": []
    }
  ]
}