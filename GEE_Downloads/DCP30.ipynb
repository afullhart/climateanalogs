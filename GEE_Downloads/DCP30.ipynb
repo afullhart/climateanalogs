{
  "nbformat": 4,
  "nbformat_minor": 0,
  "metadata": {
    "colab": {
      "provenance": [],
      "authorship_tag": "ABX9TyPZZ4I8vdLazaTT7/vuUZbg"
    },
    "kernelspec": {
      "name": "python3",
      "display_name": "Python 3"
    },
    "language_info": {
      "name": "python"
    }
  },
  "cells": [
    {
      "cell_type": "code",
      "execution_count": 1,
      "metadata": {
        "id": "YLKQGBaZWJTL"
      },
      "outputs": [],
      "source": [
        "%reset -f"
      ]
    },
    {
      "cell_type": "code",
      "source": [
        "import ee\n",
        "ee.Authenticate()\n"
      ],
      "metadata": {
        "id": "GrG7yjc_WvH3"
      },
      "execution_count": 2,
      "outputs": []
    },
    {
      "cell_type": "code",
      "source": [
        "\n",
        "ee.Initialize(project='ee-andrewfullhart')\n",
        "\n",
        "nex_ic = ee.ImageCollection('NASA/NEX-DCP30')\n",
        "\n",
        "climate_model = 'CCSM4'\n",
        "\n",
        "first_im = nex_ic.first()\n",
        "scale = first_im.projection().nominalScale().getInfo()\n",
        "\n",
        "order_months = ee.List([1, 2, 3, 4, 5, 6, 7, 8, 9, 10, 11, 12])\n",
        "\n",
        "year_windows = ee.List([[1974, 2013], [2000, 2029], [2070, 2099]])\n",
        "\n",
        "area_shp = ee.Geometry.Rectangle([-121, 30, -102, 43], 'EPSG:4326', False)\n",
        "\n",
        "ndays_months = ee.List([31, 28.25, 31, 30, 31, 30, 31, 31, 30, 31, 30, 31])\n",
        "\n",
        "def period_fn(yrwinobj):\n",
        "  start_year = ee.Number(ee.List(yrwinobj).get(0))\n",
        "  end_year = ee.Number(ee.List(yrwinobj).get(1))\n",
        "  start = ee.Date.fromYMD(ee.Number(start_year), 1, 1)\n",
        "  end = ee.Date.fromYMD(ee.Number(end_year).add(1), 1, 1)\n",
        "  period_ic = nex_ic.filterDate(start, end)\n",
        "  modelfilter = ee.Filter.Or(\n",
        "                ee.Filter.eq('scenario', 'historical'),\n",
        "                ee.Filter.eq('scenario', 'rcp45'))\n",
        "  period_ic = period_ic.filter(modelfilter)\n",
        "  period_ic = period_ic.filter(ee.Filter.eq('model', climate_model))\n",
        "  period_ic_list = period_ic.toList(period_ic.size())\n",
        "  def getImageDate(imobj):\n",
        "    im = ee.Image(imobj)\n",
        "    return im.date().get('year')\n",
        "  dates_list = period_ic_list.map(getImageDate)\n",
        "  dates_list = dates_list.distinct()\n",
        "  def year_fn(yrobj):\n",
        "    yr = ee.Number(yrobj)\n",
        "    start = ee.Date.fromYMD(ee.Number(yr), 1, 1)\n",
        "    end = ee.Date.fromYMD(ee.Number(yr).add(1), 1, 1)\n",
        "    yr_ic = period_ic.filterDate(start, end)\n",
        "    yr_ic_list = yr_ic.toList(yr_ic.size())\n",
        "    def month_fn(mobj):\n",
        "      m = ee.Number(mobj)\n",
        "      pr_im = ee.Image(yr_ic_list.get(m.subtract(1))).select('pr').multiply(86400).multiply(ee.Number(ndays_months.get(m.subtract(1))))\n",
        "      tx_im = ee.Image(ee.Image(yr_ic_list.get(m.subtract(1))).select('tasmax').subtract(273.15)).multiply(ee.Number(ndays_months.get(m.subtract(1)))).divide(365.25)\n",
        "      tn_im = ee.Image(ee.Image(yr_ic_list.get(m.subtract(1))).select('tasmin').subtract(273.15)).multiply(ee.Number(ndays_months.get(m.subtract(1)))).divide(365.25)\n",
        "      tm_im = ee.Image(tx_im.add(tn_im)).divide(2.0).rename('tmean')\n",
        "      return pr_im.addBands(tm_im)\n",
        "    converted_ic = ee.ImageCollection(order_months.map(month_fn))\n",
        "    sum_im = converted_ic.reduce(ee.Reducer.sum()).clip(area_shp)\n",
        "    return sum_im\n",
        "\n",
        "  years_ic = ee.ImageCollection(dates_list.map(year_fn))\n",
        "  mean_im = years_ic.reduce(ee.Reducer.mean())\n",
        "  return mean_im\n",
        "\n",
        "mean_ic_list = year_windows.map(period_fn)\n",
        "\n",
        "yrwin_i = 0\n",
        "\n",
        "for i in range(year_windows.size().getInfo()):\n",
        "  start_year = ee.Number(ee.List(year_windows.get(i)).get(0)).getInfo()\n",
        "  end_year = ee.Number(ee.List(year_windows.get(i)).get(1)).getInfo()\n",
        "\n",
        "  eimage = ee.Image(mean_ic_list.get(i)).select('pr_sum_mean')\n",
        "  task = ee.batch.Export.image.toDrive(\n",
        "          image=eimage,\n",
        "          description='accm_{}_{}'.format(str(start_year), str(end_year)),\n",
        "          folder='GEE_Downloads',\n",
        "          region=area_shp,\n",
        "          scale=scale,\n",
        "          crs='EPSG:4326',\n",
        "          maxPixels=1e13)\n",
        "\n",
        "  task.start()\n",
        "\n",
        "  eimage = ee.Image(mean_ic_list.get(i)).select('tmean_sum_mean')\n",
        "  task = ee.batch.Export.image.toDrive(\n",
        "          image=eimage,\n",
        "          description='tmean_{}_{}'.format(str(start_year), str(end_year)),\n",
        "          folder='GEE_Downloads',\n",
        "          region=area_shp,\n",
        "          scale=scale,\n",
        "          crs='EPSG:4326',\n",
        "          maxPixels=1e13)\n",
        "\n",
        "  task.start()\n",
        "\n"
      ],
      "metadata": {
        "id": "Bg7yibWLWne9"
      },
      "execution_count": 7,
      "outputs": []
    }
  ]
}