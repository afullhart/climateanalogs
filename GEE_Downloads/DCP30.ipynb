{
  "nbformat": 4,
  "nbformat_minor": 0,
  "metadata": {
    "colab": {
      "provenance": [],
      "authorship_tag": "ABX9TyM1wl51ZqyKkL5cwrS7TENe"
    },
    "kernelspec": {
      "name": "python3",
      "display_name": "Python 3"
    },
    "language_info": {
      "name": "python"
    }
  },
  "cells": [
    {
      "cell_type": "code",
      "execution_count": 1,
      "metadata": {
        "id": "YLKQGBaZWJTL"
      },
      "outputs": [],
      "source": [
        "%reset -f"
      ]
    },
    {
      "cell_type": "code",
      "source": [
        "import ee\n",
        "ee.Authenticate()\n"
      ],
      "metadata": {
        "id": "GrG7yjc_WvH3"
      },
      "execution_count": 2,
      "outputs": []
    },
    {
      "cell_type": "code",
      "source": [
        "\n",
        "ee.Initialize(project='ee-andrewfullhart')\n",
        "\n",
        "nex_ic = ee.ImageCollection('NASA/NEX-DCP30')\n",
        "\n",
        "first_im = nex_ic.first()\n",
        "scale = first_im.projection().nominalScale().getInfo()\n",
        "\n",
        "order_months = ee.List([1, 2, 3, 4, 5, 6, 7, 8, 9, 10, 11, 12])\n",
        "\n",
        "year_windows = ee.List([[1974, 2013], [2000, 2029], [2070, 2099]])\n",
        "\n",
        "area_shp = ee.Geometry.Rectangle([-121, 30, -102, 43], 'EPSG:4326', False)\n",
        "\n",
        "ndays_months = ee.List([31, 28.25, 31, 30, 31, 30, 31, 31, 30, 31, 30, 31])\n",
        "\n",
        "def periodfn(yrwinobj):\n",
        "  start_year = ee.Number(ee.List(yrwinobj).get(0))\n",
        "  end_year = ee.Number(ee.List(yrwinobj).get(1))\n",
        "  start = ee.Date.fromYMD(ee.Number(start_year), 1, 1)\n",
        "  end = ee.Date.fromYMD(ee.Number(end_year).add(1), 1, 1)\n",
        "  period_ic = nex_ic.filterDate(start, end)\n",
        "  modelfilter = ee.Filter.Or(\n",
        "                ee.Filter.eq('scenario', 'historical'),\n",
        "                ee.Filter.eq('scenario', 'rcp45'))\n",
        "  period_ic = period_ic.filter(modelfilter)\n",
        "  period_ic = period_ic.filter(ee.Filter.eq('model', climate_model))\n",
        "  period_ic_list = period_ic.toList(999)\n",
        "\n",
        "  def getImageDate(imobj):\n",
        "      return im.date()\n",
        "\n",
        "  def month_fn(mobj):\n",
        "    m = ee.Number(mobj)\n",
        "    pr_im = year_ic_list.get(m.subtract(1)).select('pr').multiply(86400).multiply(ee.Number(ndays_months.get(m.subtract(1))))\n",
        "    tx_im = ee.Image(year_ic_list.get(m.subtract(1)).select('tasmax').subtract(273.15)).multiply(ee.Number(ndays_months.get(m.subtract(1)))).divide(365.25)\n",
        "    tn_im = ee.Image(year_ic_list.get(m.subtract(1)).select('tasmin').subtract(273.15)).multiply(ee.Number(ndays_months.get(m.subtract(1)))).divide(365.25)\n",
        "    return pr_im.addBands(tx_im).addBands(tn_im)\n",
        "  converted_ic = ee.ImageCollection(order_months.map(month_fn))\n",
        "  sum_im = converted_ic.reduce(ee.Reducer.sum()).clip(area_shp)\n",
        "  return null\n",
        "\n",
        "nested_mean_ic_list = year_windows.map(year_fn)\n",
        "mean_ic_list = nested_mean_ic_list.flatten()\n",
        "\n",
        "\n",
        "yrwin_i = 0\n",
        "mo_i = 0\n",
        "for i in range(12*year_windows.size().getInfo()):\n",
        "  mo_i += 1\n",
        "  start_year = ee.Number(ee.List(year_windows.get(yrwin_i)).get(0)).getInfo()\n",
        "  end_year = ee.Number(ee.List(year_windows.get(yrwin_i)).get(1)).getInfo()\n",
        "\n",
        "  eimage = ee.Image(mean_ic_list.get(i))\n",
        "\n",
        "  task = ee.batch.Export.image.toDrive(\n",
        "          image=eimage,\n",
        "          description='accm_{}_{}_{}'.format(str(start_year), str(end_year), str(mo_i)),\n",
        "          folder='GEE_Downloads',\n",
        "          region=area_shp,\n",
        "          scale=scale,\n",
        "          crs='EPSG:4326',\n",
        "          maxPixels=1e13)\n",
        "\n",
        "  task.start()\n",
        "\n",
        "  if mo_i == 12:\n",
        "    mo_i = 0\n",
        "    yrwin_i += 1"
      ],
      "metadata": {
        "id": "Bg7yibWLWne9"
      },
      "execution_count": null,
      "outputs": []
    }
  ]
}