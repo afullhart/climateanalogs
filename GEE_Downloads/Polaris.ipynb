{
  "nbformat": 4,
  "nbformat_minor": 0,
  "metadata": {
    "colab": {
      "provenance": [],
      "authorship_tag": "ABX9TyNrJbUd6h0t9SfuIONnwDpo"
    },
    "kernelspec": {
      "name": "python3",
      "display_name": "Python 3"
    },
    "language_info": {
      "name": "python"
    }
  },
  "cells": [
    {
      "cell_type": "code",
      "execution_count": 1,
      "metadata": {
        "id": "YLKQGBaZWJTL"
      },
      "outputs": [],
      "source": [
        "%reset -f"
      ]
    },
    {
      "cell_type": "code",
      "source": [
        "import ee\n",
        "ee.Authenticate()\n"
      ],
      "metadata": {
        "id": "GrG7yjc_WvH3"
      },
      "execution_count": 2,
      "outputs": []
    },
    {
      "cell_type": "code",
      "source": [
        "'https://gee-community-catalog.org/projects/polaris/'\n",
        "\n",
        "import ee\n",
        "\n",
        "ee.Initialize(project='ee-andrewfullhart')\n",
        "\n",
        "nex_ic = ee.ImageCollection('NASA/NEX-DCP30')\n",
        "first_im = nex_ic.first()\n",
        "scale = first_im.projection().nominalScale().getInfo()\n",
        "\n",
        "polar_ic = ee.ImageCollection('projects/sat-io/open-datasets/polaris/bd_mean')\n",
        "\n",
        "area_shp = ee.Geometry.Rectangle([-121, 30, -102, 43], 'EPSG:4326', False)\n",
        "\n",
        "label_order = ee.List(['bd', 'clay', 'ksat', 'om', 'ph', 'sand', 'silt', 'theta_r', 'theta_s'])\n",
        "\n",
        "im = polar_ic.first()\n",
        "proj = im.projection().getInfo()\n",
        "\n",
        "transform = [\n",
        "  proj['transform'][0],\n",
        "  proj['transform'][1],\n",
        "  proj['transform'][2],\n",
        "  proj['transform'][3],\n",
        "  proj['transform'][4],\n",
        "  proj['transform'][5],\n",
        "];\n",
        "\n",
        "transform_new = [\n",
        "  0.0083333333,\n",
        "  proj['transform'][1],\n",
        "  proj['transform'][2],\n",
        "  proj['transform'][3],\n",
        "  0.0083333333,\n",
        "  proj['transform'][5],\n",
        "];\n",
        "\n",
        "proj = im.projection();\n",
        "\n",
        "\n",
        "bd = ee.ImageCollection('projects/sat-io/open-datasets/polaris/bd_mean')\n",
        "clay = ee.ImageCollection('projects/sat-io/open-datasets/polaris/clay_mean')\n",
        "ksat = ee.ImageCollection('projects/sat-io/open-datasets/polaris/ksat_mean')\n",
        "om = ee.ImageCollection('projects/sat-io/open-datasets/polaris/om_mean')\n",
        "ph = ee.ImageCollection('projects/sat-io/open-datasets/polaris/ph_mean')\n",
        "sand = ee.ImageCollection('projects/sat-io/open-datasets/polaris/sand_mean')\n",
        "silt = ee.ImageCollection('projects/sat-io/open-datasets/polaris/silt_mean')\n",
        "theta_r = ee.ImageCollection('projects/sat-io/open-datasets/polaris/theta_r_mean')\n",
        "theta_s = ee.ImageCollection('projects/sat-io/open-datasets/polaris/theta_s_mean')\n",
        "\n",
        "bd = bd.reduce(ee.Reducer.mean())\n",
        "clay = clay.reduce(ee.Reducer.mean())\n",
        "ksat = ksat.reduce(ee.Reducer.mean())\n",
        "om = om.reduce(ee.Reducer.mean())\n",
        "ph = ph.reduce(ee.Reducer.mean())\n",
        "sand = sand.reduce(ee.Reducer.mean())\n",
        "silt = silt.reduce(ee.Reducer.mean())\n",
        "theta_r = theta_r.reduce(ee.Reducer.mean())\n",
        "theta_s = theta_s.reduce(ee.Reducer.mean())\n",
        "\n",
        "map_ic = ee.ImageCollection([bd, clay, ksat, om, ph, sand, silt, theta_r, theta_s])\n",
        "\n",
        "def clip_fn(im):\n",
        "  im = im.setDefaultProjection('EPSG:4326', transform)\n",
        "  im = im.reproject(crs=proj.crs(), crsTransform=transform_new)\n",
        "  clip_im = ee.Image(im).clip(area_shp)\n",
        "  return clip_im\n",
        "\n",
        "map_ic = ee.ImageCollection(map_ic.map(clip_fn))\n",
        "map_ic_list = map_ic.toList(map_ic.size())\n",
        "\n",
        "for i in range(map_ic.size().getInfo()):\n",
        "\n",
        "  eimage = ee.Image(map_ic_list.get(i))\n",
        "  label = ee.String(label_order.get(i)).getInfo()\n",
        "\n",
        "  task = ee.batch.Export.image.toDrive(\n",
        "      image=eimage,\n",
        "      description='Polaris_' + label,\n",
        "      folder='GEE_Downloads',\n",
        "      region=area_shp,\n",
        "      scale=scale,\n",
        "      crs='EPSG:4326',\n",
        "      maxPixels=1e13)\n",
        "\n",
        "  task.start()\n",
        "\n",
        "\n"
      ],
      "metadata": {
        "id": "Bg7yibWLWne9"
      },
      "execution_count": 3,
      "outputs": []
    }
  ]
}