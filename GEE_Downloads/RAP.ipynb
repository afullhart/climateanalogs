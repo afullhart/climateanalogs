{
  "nbformat": 4,
  "nbformat_minor": 0,
  "metadata": {
    "colab": {
      "provenance": [],
      "authorship_tag": "ABX9TyPSkTrELJeh/Uyj8FJmSL+J"
    },
    "kernelspec": {
      "name": "python3",
      "display_name": "Python 3"
    },
    "language_info": {
      "name": "python"
    }
  },
  "cells": [
    {
      "cell_type": "code",
      "execution_count": 1,
      "metadata": {
        "id": "Est6O_y2sLjP"
      },
      "outputs": [],
      "source": [
        "%reset -f"
      ]
    },
    {
      "cell_type": "code",
      "source": [
        "import ee\n",
        "ee.Authenticate()\n"
      ],
      "metadata": {
        "id": "ohg6nRuQ0d9u"
      },
      "execution_count": 2,
      "outputs": []
    },
    {
      "cell_type": "code",
      "source": [
        "ee.Initialize(project='ee-andrewfullhart')\n",
        "\n",
        "prism_ic = ee.ImageCollection('OREGONSTATE/PRISM/AN81m')\n",
        "first_im = prism_ic.first().select('ppt')\n",
        "scale = first_im.projection().nominalScale().getInfo()\n",
        "\n",
        "cover_ic = ee.ImageCollection('projects/rap-data-365417/assets/vegetation-cover-v3')\n",
        "prod_ic = ee.ImageCollection('projects/rap-data-365417/assets/npp-partitioned-v3')\n",
        "\n",
        "years_list= ee.List([1986, 1987, 1988, 1989, 1990, 1991, 1992, 1993, 1994, 1995, 1996, 1997, 1998, 1999, 2000, 2001, 2002, 2003, 2004, 2005])\n",
        "label_order = ee.List(['RAP_afg', 'RAP_pfg', 'RAP_bgr', 'RAP_ltr', 'RAP_shr', 'RAP_tre', 'RAP_afgNPP', 'RAP_pfgNPP', 'RAP_shrNPP', 'RAP_treNPP'])\n",
        "area_shp = ee.Geometry.Rectangle([-121, 30, -102, 43], 'EPSG:4326', False)\n",
        "\n",
        "im = cover_ic.first()\n",
        "proj = im.projection().getInfo()\n",
        "\n",
        "transform = [\n",
        "  proj['transform'][0],\n",
        "  proj['transform'][1],\n",
        "  proj['transform'][2],\n",
        "  proj['transform'][3],\n",
        "  proj['transform'][4],\n",
        "  proj['transform'][5],\n",
        "]\n",
        "\n",
        "transform_new = [\n",
        "  0.0083333333,\n",
        "  proj['transform'][1],\n",
        "  proj['transform'][2],\n",
        "  proj['transform'][3],\n",
        "  0.0083333333,\n",
        "  proj['transform'][5],\n",
        "]\n",
        "\n",
        "proj = im.projection()\n",
        "\n",
        "def clip_fnA(yrobj):\n",
        "  year = ee.Number(yrobj)\n",
        "  start = ee.Date.fromYMD(year, 1, 1)\n",
        "  end = ee.Date.fromYMD(year.add(1), 1, 1)\n",
        "  yr_im = cover_ic.filterDate(start, end).select(['AFG', 'PFG', 'BGR', 'LTR', 'SHR', 'TRE']).first()\n",
        "  im = yr_im.setDefaultProjection('EPSG:4326', transform)\n",
        "  im = im.reproject(crs=proj.crs(), crsTransform=transform_new)\n",
        "  clip_im = ee.Image(im).clip(area_shp)\n",
        "  return clip_im\n",
        "\n",
        "c_ic = ee.ImageCollection(years_list.map(clip_fnA))\n",
        "\n",
        "def clip_fnB(yrobj):\n",
        "  year = ee.Number(yrobj)\n",
        "  start = ee.Date.fromYMD(year, 1, 1)\n",
        "  end = ee.Date.fromYMD(year.add(1), 1, 1)\n",
        "  yr_im = prod_ic.filterDate(start, end).select(['afgNPP', 'pfgNPP', 'shrNPP', 'treNPP']).first()\n",
        "  im = yr_im.setDefaultProjection('EPSG:4326', transform)\n",
        "  im = im.reproject(crs=proj.crs(), crsTransform=transform_new)\n",
        "  clip_im = ee.Image(im).clip(area_shp)\n",
        "  return clip_im\n",
        "\n",
        "p_ic = ee.ImageCollection(years_list.map(clip_fnB))\n",
        "\n",
        "\n",
        "\n",
        "cavg_im = c_ic.reduce(ee.Reducer.mean())\n",
        "afg_im = cavg_im.select('AFG_mean')\n",
        "pfg_im = cavg_im.select('PFG_mean')\n",
        "bgr_im = cavg_im.select('BGR_mean')\n",
        "ltr_im = cavg_im.select('LTR_mean')\n",
        "shr_im = cavg_im.select('SHR_mean')\n",
        "tre_im = cavg_im.select('TRE_mean')\n",
        "\n",
        "pavg_im = p_ic.reduce(ee.Reducer.mean())\n",
        "afgnpp_im = pavg_im.select('afgNPP_mean')\n",
        "pfgnpp_im = pavg_im.select('pfgNPP_mean')\n",
        "shrnpp_im = pavg_im.select('shrNPP_mean')\n",
        "trenpp_im = pavg_im.select('treNPP_mean')\n",
        "\n",
        "\n",
        "map_ic = ee.ImageCollection([afg_im, pfg_im, bgr_im, ltr_im, shr_im, tre_im, afgnpp_im, pfgnpp_im, shrnpp_im, trenpp_im])\n",
        "map_ic_list = map_ic.toList(map_ic.size())\n",
        "\n",
        "for i in range(map_ic.size().getInfo()):\n",
        "\n",
        "  eimage = ee.Image(map_ic_list.get(i))\n",
        "  label = ee.String(label_order.get(i)).getInfo()\n",
        "\n",
        "  task = ee.batch.Export.image.toDrive(\n",
        "    image=eimage,\n",
        "    description=label,\n",
        "    folder='GEE_Downloads',\n",
        "    region=area_shp,\n",
        "    scale=scale,\n",
        "    crs='EPSG:4326',\n",
        "    maxPixels=1e13\n",
        "  )\n",
        "\n",
        "  task.start()\n",
        "\n"
      ],
      "metadata": {
        "id": "Eo8gIsbw09lg"
      },
      "execution_count": 7,
      "outputs": []
    }
  ]
}