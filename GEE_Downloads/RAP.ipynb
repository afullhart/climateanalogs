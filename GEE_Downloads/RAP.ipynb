{
  "nbformat": 4,
  "nbformat_minor": 0,
  "metadata": {
    "colab": {
      "provenance": [],
      "authorship_tag": "ABX9TyN9YkGiJ/Vcn89DIngR45tm"
    },
    "kernelspec": {
      "name": "python3",
      "display_name": "Python 3"
    },
    "language_info": {
      "name": "python"
    }
  },
  "cells": [
    {
      "cell_type": "code",
      "execution_count": 1,
      "metadata": {
        "id": "Est6O_y2sLjP"
      },
      "outputs": [],
      "source": [
        "%reset -f"
      ]
    },
    {
      "cell_type": "code",
      "source": [
        "import ee\n",
        "ee.Authenticate()\n"
      ],
      "metadata": {
        "id": "ohg6nRuQ0d9u"
      },
      "execution_count": 2,
      "outputs": []
    },
    {
      "cell_type": "code",
      "source": [
        "ee.Initialize(project='ee-andrewfullhart')\n",
        "\n",
        "prism_ic = ee.ImageCollection('OREGONSTATE/PRISM/AN81m')\n",
        "first_im = prism_ic.first().select('ppt')\n",
        "scale = first_im.projection().nominalScale().getInfo()\n",
        "\n",
        "cover_ic = ee.ImageCollection('projects/rap-data-365417/assets/vegetation-cover-v3')\n",
        "prod_ic = ee.ImageCollection('projects/rap-data-365417/assets/npp-partitioned-v3')\n",
        "\n",
        "years_list= ee.List([1986, 1987, 1988, 1989, 1990, 1991, 1992, 1993, 1994, 1995, 1996, 1997, 1998, 1999, 2000, 2001, 2002, 2003, 2004, 2005])\n",
        "label_order = ee.List(['RAP_afg', 'RAP_pfg', 'RAP_bgr', 'RAP_ltr', 'RAP_shr', 'RAP_tre', 'RAP_afgNPP', 'RAP_pfgNPP', 'RAP_shrNPP', 'RAP_treNPP'])\n",
        "area_shp = ee.Geometry.Rectangle([-121, 30, -102, 43], 'EPSG:4326', False)\n",
        "\n",
        "im = cover_ic.first()\n",
        "proj = im.projection().getInfo()\n",
        "\n",
        "transform = [\n",
        "  proj['transform'][0],\n",
        "  proj['transform'][1],\n",
        "  proj['transform'][2],\n",
        "  proj['transform'][3],\n",
        "  proj['transform'][4],\n",
        "  proj['transform'][5],\n",
        "]\n",
        "\n",
        "transform_new = [\n",
        "  0.0083333333,\n",
        "  proj['transform'][1],\n",
        "  proj['transform'][2],\n",
        "  proj['transform'][3],\n",
        "  0.0083333333,\n",
        "  proj['transform'][5],\n",
        "]\n",
        "\n",
        "proj = im.projection()\n",
        "\n",
        "def clip_fnA(yrobj):\n",
        "  year = ee.Number(yrobj)\n",
        "  start = ee.Date.fromYMD(year, 1, 1)\n",
        "  end = ee.Date.fromYMD(year.add(1), 1, 1)\n",
        "  yr_im = cover_ic.filterDate(start, end).select(['AFG', 'PFG', 'BGR', 'LTR', 'SHR', 'TRE']).first()\n",
        "  im = yr_im.setDefaultProjection('EPSG:4326', transform)\n",
        "  im = im.reproject(crs=proj.crs(), crsTransform=transform_new})\n",
        "  clip_im = ee.Image(im).clip(area_shp)\n",
        "  return clip_im\n",
        "\n",
        "c_ic = ee.ImageCollection(years_list.map(clip_fnA))\n",
        "\n",
        "def clip_fnB(yrobj):\n",
        "  year = ee.Number(yrobj)\n",
        "  start = ee.Date.fromYMD(year, 1, 1)\n",
        "  end = ee.Date.fromYMD(year.add(1), 1, 1)\n",
        "  yr_im = prod_ic.filterDate(start, end).select(['afgNPP', 'pfgNPP', 'shrNPP', 'treNPP']).first()\n",
        "  im = yr_im.setDefaultProjection('EPSG:4326', transform)\n",
        "  im = im.reproject(crs=proj.crs(), crsTransform=transform_new})\n",
        "  clip_im = ee.Image(im).clip(area_shp)\n",
        "  return clip_im\n",
        "\n",
        "p_ic = ee.ImageCollection(years_list.map(clip_fnB))\n",
        "\n",
        "\n",
        "\n",
        "cavg_im = c_ic.reduce(ee.Reducer.mean())\n",
        "afg_im = cavg_im.select('AFG_mean')\n",
        "pfg_im = cavg_im.select('PFG_mean')\n",
        "bgr_im = cavg_im.select('BGR_mean')\n",
        "ltr_im = cavg_im.select('LTR_mean')\n",
        "shr_im = cavg_im.select('SHR_mean')\n",
        "tre_im = cavg_im.select('TRE_mean')\n",
        "\n",
        "pavg_im = p_ic.reduce(ee.Reducer.mean())\n",
        "afgnpp_im = pavg_im.select('afgNPP_mean')\n",
        "pfgnpp_im = pavg_im.select('pfgNPP_mean')\n",
        "shrnpp_im = pavg_im.select('shrNPP_mean')\n",
        "trenpp_im = pavg_im.select('treNPP_mean')\n",
        "\n",
        "\n",
        "map_ic = ee.ImageCollection([afg_im, pfg_im, bgr_im, ltr_im, shr_im, tre_im, afgnpp_im, pfgnpp_im, shrnpp_im, trenpp_im])\n",
        "map_ic_list = map_ic.toList(map_ic.size())\n",
        "\n",
        "for i in range(map_ic.size().getInfo()):\n",
        "\n",
        "  eimage = ee.Image(map_ic_list.get(i))\n",
        "  label = ee.String(label_order.get(i)).getInfo()\n",
        "\n",
        "  task = ee.batch.Export.image.toDrive(\n",
        "    image=eimage,\n",
        "    description=label,\n",
        "    folder='GEE_Downloads',\n",
        "    region=area_shp,\n",
        "    scale=scale,\n",
        "    crs='EPSG:4326',\n",
        "    maxPixels=1e13\n",
        "  )\n",
        "\n",
        "  task.start()\n",
        "\n"
      ],
      "metadata": {
        "id": "Eo8gIsbw09lg",
        "colab": {
          "base_uri": "https://localhost:8080/",
          "height": 599
        },
        "outputId": "36239f17-2a3a-46ea-c570-2f35ddd5742f"
      },
      "execution_count": 5,
      "outputs": [
        {
          "output_type": "error",
          "ename": "EEException",
          "evalue": "Projection: Argument 'crs': Invalid type.\nExpected type: String.\nActual type: Dictionary<Object>.\nActual value: {crsTransform=[0.0083333333, 0, -124.76979458874112, 0, 0.0083333333, 49.393776065783484], crs=EPSG:4326}",
          "traceback": [
            "\u001b[0;31m---------------------------------------------------------------------------\u001b[0m",
            "\u001b[0;31mHttpError\u001b[0m                                 Traceback (most recent call last)",
            "\u001b[0;32m/usr/local/lib/python3.11/dist-packages/ee/data.py\u001b[0m in \u001b[0;36m_execute_cloud_call\u001b[0;34m(call, num_retries)\u001b[0m\n\u001b[1;32m    407\u001b[0m   \u001b[0;32mtry\u001b[0m\u001b[0;34m:\u001b[0m\u001b[0;34m\u001b[0m\u001b[0;34m\u001b[0m\u001b[0m\n\u001b[0;32m--> 408\u001b[0;31m     \u001b[0;32mreturn\u001b[0m \u001b[0mcall\u001b[0m\u001b[0;34m.\u001b[0m\u001b[0mexecute\u001b[0m\u001b[0;34m(\u001b[0m\u001b[0mnum_retries\u001b[0m\u001b[0;34m=\u001b[0m\u001b[0mnum_retries\u001b[0m\u001b[0;34m)\u001b[0m\u001b[0;34m\u001b[0m\u001b[0;34m\u001b[0m\u001b[0m\n\u001b[0m\u001b[1;32m    409\u001b[0m   \u001b[0;32mexcept\u001b[0m \u001b[0mgoogleapiclient\u001b[0m\u001b[0;34m.\u001b[0m\u001b[0merrors\u001b[0m\u001b[0;34m.\u001b[0m\u001b[0mHttpError\u001b[0m \u001b[0;32mas\u001b[0m \u001b[0me\u001b[0m\u001b[0;34m:\u001b[0m\u001b[0;34m\u001b[0m\u001b[0;34m\u001b[0m\u001b[0m\n",
            "\u001b[0;32m/usr/local/lib/python3.11/dist-packages/googleapiclient/_helpers.py\u001b[0m in \u001b[0;36mpositional_wrapper\u001b[0;34m(*args, **kwargs)\u001b[0m\n\u001b[1;32m    129\u001b[0m                     \u001b[0mlogger\u001b[0m\u001b[0;34m.\u001b[0m\u001b[0mwarning\u001b[0m\u001b[0;34m(\u001b[0m\u001b[0mmessage\u001b[0m\u001b[0;34m)\u001b[0m\u001b[0;34m\u001b[0m\u001b[0;34m\u001b[0m\u001b[0m\n\u001b[0;32m--> 130\u001b[0;31m             \u001b[0;32mreturn\u001b[0m \u001b[0mwrapped\u001b[0m\u001b[0;34m(\u001b[0m\u001b[0;34m*\u001b[0m\u001b[0margs\u001b[0m\u001b[0;34m,\u001b[0m \u001b[0;34m**\u001b[0m\u001b[0mkwargs\u001b[0m\u001b[0;34m)\u001b[0m\u001b[0;34m\u001b[0m\u001b[0;34m\u001b[0m\u001b[0m\n\u001b[0m\u001b[1;32m    131\u001b[0m \u001b[0;34m\u001b[0m\u001b[0m\n",
            "\u001b[0;32m/usr/local/lib/python3.11/dist-packages/googleapiclient/http.py\u001b[0m in \u001b[0;36mexecute\u001b[0;34m(self, http, num_retries)\u001b[0m\n\u001b[1;32m    937\u001b[0m         \u001b[0;32mif\u001b[0m \u001b[0mresp\u001b[0m\u001b[0;34m.\u001b[0m\u001b[0mstatus\u001b[0m \u001b[0;34m>=\u001b[0m \u001b[0;36m300\u001b[0m\u001b[0;34m:\u001b[0m\u001b[0;34m\u001b[0m\u001b[0;34m\u001b[0m\u001b[0m\n\u001b[0;32m--> 938\u001b[0;31m             \u001b[0;32mraise\u001b[0m \u001b[0mHttpError\u001b[0m\u001b[0;34m(\u001b[0m\u001b[0mresp\u001b[0m\u001b[0;34m,\u001b[0m \u001b[0mcontent\u001b[0m\u001b[0;34m,\u001b[0m \u001b[0muri\u001b[0m\u001b[0;34m=\u001b[0m\u001b[0mself\u001b[0m\u001b[0;34m.\u001b[0m\u001b[0muri\u001b[0m\u001b[0;34m)\u001b[0m\u001b[0;34m\u001b[0m\u001b[0;34m\u001b[0m\u001b[0m\n\u001b[0m\u001b[1;32m    939\u001b[0m         \u001b[0;32mreturn\u001b[0m \u001b[0mself\u001b[0m\u001b[0;34m.\u001b[0m\u001b[0mpostproc\u001b[0m\u001b[0;34m(\u001b[0m\u001b[0mresp\u001b[0m\u001b[0;34m,\u001b[0m \u001b[0mcontent\u001b[0m\u001b[0;34m)\u001b[0m\u001b[0;34m\u001b[0m\u001b[0;34m\u001b[0m\u001b[0m\n",
            "\u001b[0;31mHttpError\u001b[0m: <HttpError 400 when requesting https://earthengine.googleapis.com/v1/projects/ee-andrewfullhart/value:compute?prettyPrint=false&alt=json returned \"Projection: Argument 'crs': Invalid type.\nExpected type: String.\nActual type: Dictionary<Object>.\nActual value: {crsTransform=[0.0083333333, 0, -124.76979458874112, 0, 0.0083333333, 49.393776065783484], crs=EPSG:4326}\". Details: \"Projection: Argument 'crs': Invalid type.\nExpected type: String.\nActual type: Dictionary<Object>.\nActual value: {crsTransform=[0.0083333333, 0, -124.76979458874112, 0, 0.0083333333, 49.393776065783484], crs=EPSG:4326}\">",
            "\nDuring handling of the above exception, another exception occurred:\n",
            "\u001b[0;31mEEException\u001b[0m                               Traceback (most recent call last)",
            "\u001b[0;32m/tmp/ipython-input-1860334267.py\u001b[0m in \u001b[0;36m<cell line: 0>\u001b[0;34m()\u001b[0m\n\u001b[1;32m     79\u001b[0m \u001b[0mmap_ic_list\u001b[0m \u001b[0;34m=\u001b[0m \u001b[0mmap_ic\u001b[0m\u001b[0;34m.\u001b[0m\u001b[0mtoList\u001b[0m\u001b[0;34m(\u001b[0m\u001b[0mmap_ic\u001b[0m\u001b[0;34m.\u001b[0m\u001b[0msize\u001b[0m\u001b[0;34m(\u001b[0m\u001b[0;34m)\u001b[0m\u001b[0;34m)\u001b[0m\u001b[0;34m\u001b[0m\u001b[0;34m\u001b[0m\u001b[0m\n\u001b[1;32m     80\u001b[0m \u001b[0;34m\u001b[0m\u001b[0m\n\u001b[0;32m---> 81\u001b[0;31m \u001b[0;32mfor\u001b[0m \u001b[0mi\u001b[0m \u001b[0;32min\u001b[0m \u001b[0mrange\u001b[0m\u001b[0;34m(\u001b[0m\u001b[0mmap_ic\u001b[0m\u001b[0;34m.\u001b[0m\u001b[0msize\u001b[0m\u001b[0;34m(\u001b[0m\u001b[0;34m)\u001b[0m\u001b[0;34m.\u001b[0m\u001b[0mgetInfo\u001b[0m\u001b[0;34m(\u001b[0m\u001b[0;34m)\u001b[0m\u001b[0;34m)\u001b[0m\u001b[0;34m:\u001b[0m\u001b[0;34m\u001b[0m\u001b[0;34m\u001b[0m\u001b[0m\n\u001b[0m\u001b[1;32m     82\u001b[0m \u001b[0;34m\u001b[0m\u001b[0m\n\u001b[1;32m     83\u001b[0m   \u001b[0meimage\u001b[0m \u001b[0;34m=\u001b[0m \u001b[0mee\u001b[0m\u001b[0;34m.\u001b[0m\u001b[0mImage\u001b[0m\u001b[0;34m(\u001b[0m\u001b[0mmap_ic_list\u001b[0m\u001b[0;34m.\u001b[0m\u001b[0mget\u001b[0m\u001b[0;34m(\u001b[0m\u001b[0mi\u001b[0m\u001b[0;34m)\u001b[0m\u001b[0;34m)\u001b[0m\u001b[0;34m\u001b[0m\u001b[0;34m\u001b[0m\u001b[0m\n",
            "\u001b[0;32m/usr/local/lib/python3.11/dist-packages/ee/computedobject.py\u001b[0m in \u001b[0;36mgetInfo\u001b[0;34m(self)\u001b[0m\n\u001b[1;32m    105\u001b[0m       \u001b[0mThe\u001b[0m \u001b[0mobject\u001b[0m \u001b[0mcan\u001b[0m \u001b[0mevaluate\u001b[0m \u001b[0mto\u001b[0m \u001b[0manything\u001b[0m\u001b[0;34m.\u001b[0m\u001b[0;34m\u001b[0m\u001b[0;34m\u001b[0m\u001b[0m\n\u001b[1;32m    106\u001b[0m     \"\"\"\n\u001b[0;32m--> 107\u001b[0;31m     \u001b[0;32mreturn\u001b[0m \u001b[0mdata\u001b[0m\u001b[0;34m.\u001b[0m\u001b[0mcomputeValue\u001b[0m\u001b[0;34m(\u001b[0m\u001b[0mself\u001b[0m\u001b[0;34m)\u001b[0m\u001b[0;34m\u001b[0m\u001b[0;34m\u001b[0m\u001b[0m\n\u001b[0m\u001b[1;32m    108\u001b[0m \u001b[0;34m\u001b[0m\u001b[0m\n\u001b[1;32m    109\u001b[0m   \u001b[0;32mdef\u001b[0m \u001b[0mencode\u001b[0m\u001b[0;34m(\u001b[0m\u001b[0mself\u001b[0m\u001b[0;34m,\u001b[0m \u001b[0mencoder\u001b[0m\u001b[0;34m:\u001b[0m \u001b[0mOptional\u001b[0m\u001b[0;34m[\u001b[0m\u001b[0mCallable\u001b[0m\u001b[0;34m[\u001b[0m\u001b[0;34m...\u001b[0m\u001b[0;34m,\u001b[0m \u001b[0mAny\u001b[0m\u001b[0;34m]\u001b[0m\u001b[0;34m]\u001b[0m\u001b[0;34m)\u001b[0m \u001b[0;34m->\u001b[0m \u001b[0mdict\u001b[0m\u001b[0;34m[\u001b[0m\u001b[0mstr\u001b[0m\u001b[0;34m,\u001b[0m \u001b[0mAny\u001b[0m\u001b[0;34m]\u001b[0m\u001b[0;34m:\u001b[0m\u001b[0;34m\u001b[0m\u001b[0;34m\u001b[0m\u001b[0m\n",
            "\u001b[0;32m/usr/local/lib/python3.11/dist-packages/ee/data.py\u001b[0m in \u001b[0;36mcomputeValue\u001b[0;34m(obj)\u001b[0m\n\u001b[1;32m   1126\u001b[0m   \u001b[0m_maybe_populate_workload_tag\u001b[0m\u001b[0;34m(\u001b[0m\u001b[0mbody\u001b[0m\u001b[0;34m)\u001b[0m\u001b[0;34m\u001b[0m\u001b[0;34m\u001b[0m\u001b[0m\n\u001b[1;32m   1127\u001b[0m \u001b[0;34m\u001b[0m\u001b[0m\n\u001b[0;32m-> 1128\u001b[0;31m   return _execute_cloud_call(\n\u001b[0m\u001b[1;32m   1129\u001b[0m       \u001b[0m_get_cloud_projects\u001b[0m\u001b[0;34m(\u001b[0m\u001b[0;34m)\u001b[0m\u001b[0;34m\u001b[0m\u001b[0;34m\u001b[0m\u001b[0m\n\u001b[1;32m   1130\u001b[0m       \u001b[0;34m.\u001b[0m\u001b[0mvalue\u001b[0m\u001b[0;34m(\u001b[0m\u001b[0;34m)\u001b[0m\u001b[0;34m\u001b[0m\u001b[0;34m\u001b[0m\u001b[0m\n",
            "\u001b[0;32m/usr/local/lib/python3.11/dist-packages/ee/data.py\u001b[0m in \u001b[0;36m_execute_cloud_call\u001b[0;34m(call, num_retries)\u001b[0m\n\u001b[1;32m    408\u001b[0m     \u001b[0;32mreturn\u001b[0m \u001b[0mcall\u001b[0m\u001b[0;34m.\u001b[0m\u001b[0mexecute\u001b[0m\u001b[0;34m(\u001b[0m\u001b[0mnum_retries\u001b[0m\u001b[0;34m=\u001b[0m\u001b[0mnum_retries\u001b[0m\u001b[0;34m)\u001b[0m\u001b[0;34m\u001b[0m\u001b[0;34m\u001b[0m\u001b[0m\n\u001b[1;32m    409\u001b[0m   \u001b[0;32mexcept\u001b[0m \u001b[0mgoogleapiclient\u001b[0m\u001b[0;34m.\u001b[0m\u001b[0merrors\u001b[0m\u001b[0;34m.\u001b[0m\u001b[0mHttpError\u001b[0m \u001b[0;32mas\u001b[0m \u001b[0me\u001b[0m\u001b[0;34m:\u001b[0m\u001b[0;34m\u001b[0m\u001b[0;34m\u001b[0m\u001b[0m\n\u001b[0;32m--> 410\u001b[0;31m     \u001b[0;32mraise\u001b[0m \u001b[0m_translate_cloud_exception\u001b[0m\u001b[0;34m(\u001b[0m\u001b[0me\u001b[0m\u001b[0;34m)\u001b[0m  \u001b[0;31m# pylint: disable=raise-missing-from\u001b[0m\u001b[0;34m\u001b[0m\u001b[0;34m\u001b[0m\u001b[0m\n\u001b[0m\u001b[1;32m    411\u001b[0m \u001b[0;34m\u001b[0m\u001b[0m\n\u001b[1;32m    412\u001b[0m \u001b[0;34m\u001b[0m\u001b[0m\n",
            "\u001b[0;31mEEException\u001b[0m: Projection: Argument 'crs': Invalid type.\nExpected type: String.\nActual type: Dictionary<Object>.\nActual value: {crsTransform=[0.0083333333, 0, -124.76979458874112, 0, 0.0083333333, 49.393776065783484], crs=EPSG:4326}"
          ]
        }
      ]
    }
  ]
}