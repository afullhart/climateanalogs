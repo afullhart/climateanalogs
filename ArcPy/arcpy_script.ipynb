{
 "cells": [
  {
   "cell_type": "code",
   "execution_count": null,
   "id": "13a76592-f88d-49a3-8959-715f201c1b69",
   "metadata": {},
   "outputs": [],
   "source": [
    "%reset -f"
   ]
  },
  {
   "cell_type": "code",
   "execution_count": null,
   "id": "e65e43f1-cb24-42d9-9b2a-f8b8e67483cd",
   "metadata": {},
   "outputs": [],
   "source": [
    "%pwd"
   ]
  },
  {
   "cell_type": "code",
   "execution_count": 6,
   "id": "4712564d-5e4d-422b-8b91-cbcd7361ee03",
   "metadata": {},
   "outputs": [
    {
     "data": {
      "application/javascript": [
       "document.addEventListener('keydown', function(e) {\n",
       "  if (e.key === '-') {\n",
       "    e.preventDefault();\n",
       "    if (document.fullscreenElement) {\n",
       "      document.exitFullscreen();\n",
       "    } else {\n",
       "      document.documentElement.requestFullscreen();\n",
       "    }\n",
       "  }\n",
       "});\n"
      ],
      "text/plain": [
       "<IPython.core.display.Javascript object>"
      ]
     },
     "metadata": {},
     "output_type": "display_data"
    }
   ],
   "source": [
    "%%javascript\n",
    "document.addEventListener('keydown', function(e) {\n",
    "  if (e.key === '-') {\n",
    "    e.preventDefault();\n",
    "    if (document.fullscreenElement) {\n",
    "      document.exitFullscreen();\n",
    "    } else {\n",
    "      document.documentElement.requestFullscreen();\n",
    "    }\n",
    "  }\n",
    "});\n"
   ]
  },
  {
   "cell_type": "code",
   "execution_count": 5,
   "id": "9efac2a6-2e76-43b4-b716-b407fbea3950",
   "metadata": {},
   "outputs": [
    {
     "name": "stdout",
     "output_type": "stream",
     "text": [
      "23\n"
     ]
    }
   ],
   "source": [
    "import arcpy\n",
    "import os\n",
    "\n",
    "myProject = 'MyProject1'\n",
    "dataDIR = r'C:\\Users\\fullh\\Documents\\ArcGIS\\Projects\\{}\\Data'.format(myProject)\n",
    "gdbDIR = r'C:\\Users\\fullh\\Documents\\ArcGIS\\Projects\\{}\\{}.gdb'.format(myProject, myProject)\n",
    "arcpy.env.overwriteOutput = True\n",
    "arcpy.env.workspace = dataDIR\n",
    "\n",
    "input_string = 'RAP_treNPP.tif;RAP_shrNPP.tif;RAP_pfgNPP.tif;RAP_ltr.tif;RAP_bgr.tif;RAP_afgNPP.tif;POL_ph.tif;POL_sand.tif;POL_om.tif;POL_ksat.tif;POL_clay.tif;POL_bd.tif;pmomx_1974_2013.tif;pmomn_1974_2013.tif;DEM_Slope.tif;DEM_Elev.tif;CCSM4_1974_2013_swe.tif;CCSM4_1974_2013_pet.tif;CCSM4_1974_2013_ndays.tif;CCSM4_1974_2013_ero.tif;CCSM4_1974_2013_consec.tif;tmean_1974_2013.tif;accm_1974_2013.tif'\n",
    "band_n = len(input_string.split(';'))\n",
    "print(band_n)\n",
    "\n",
    "\n",
    "with arcpy.EnvManager(scratchWorkspace=gdbDIR):\n",
    "  output_raster = arcpy.ia.RasterCalculator(\n",
    "    rasters=['CCSM4_1974_2013_ero.tif'],\n",
    "    input_names=['raster'],\n",
    "    expression='raster >= 0'\n",
    "  )\n",
    "output_raster.save(os.path.join(gdbDIR, 'clip_raster'))\n",
    "\n",
    "with arcpy.EnvManager(extent=\"MAXOF\"):\n",
    "  arcpy.management.CompositeBands(\n",
    "    in_rasters=input_string,\n",
    "    out_raster=os.path.join(gdbDIR, \"CompositeBands\")\n",
    "  )\n",
    "\n",
    "arcpy.env.workspace = gdbDIR\n",
    "\n",
    "with arcpy.EnvManager(outputZFlag=\"Disabled\", outputMFlag=\"Disabled\"):\n",
    "  arcpy.conversion.RasterToPolygon(\n",
    "    in_raster='clip_raster',\n",
    "    out_polygon_features=os.path.join(gdbDIR, 'clip_shape'),\n",
    "    simplify=\"SIMPLIFY\",\n",
    "    raster_field=\"Value\",\n",
    "    create_multipart_features=\"SINGLE_OUTER_PART\",\n",
    "    max_vertices_per_feature=None\n",
    "  )\n",
    "\n",
    "with arcpy.EnvManager(scratchWorkspace=gdbDIR):\n",
    "  output_raster = arcpy.ia.RasterCalculator(\n",
    "    rasters=['CompositeBands'],\n",
    "    input_names=['raster'],\n",
    "    expression='raster * 1'\n",
    "  )\n",
    "output_raster.save(os.path.join(gdbDIR, 'NoData_Composite'))\n",
    "\n",
    "with arcpy.EnvManager(scratchWorkspace=gdbDIR):\n",
    "  output_raster = arcpy.ia.RasterCalculator(\n",
    "    rasters=['NoData_Composite'],\n",
    "    input_names=['raster'],\n",
    "    expression='Con(IsNull(raster),1,raster)'\n",
    "  )\n",
    "output_raster.save(os.path.join(gdbDIR, 'Filled_Composite'))\n",
    "\n",
    "with arcpy.EnvManager(scratchWorkspace=gdbDIR):\n",
    "  output_raster = arcpy.sa.ExtractByMask(\n",
    "    in_raster='Filled_Composite',\n",
    "    in_mask_data='clip_shape',\n",
    "    extraction_area=\"INSIDE\",\n",
    "    analysis_extent='-120.004083333317 31.3333333333001 -102.995916734683 42.004083290617 GEOGCS[\"GCS_WGS_1984\",DATUM[\"D_WGS_1984\",SPHEROID[\"WGS_1984\",6378137.0,298.257223563]],PRIMEM[\"Greenwich\",0.0],UNIT[\"Degree\",0.0174532925199433]]'\n",
    "  )\n",
    "output_raster.save(os.path.join(gdbDIR, 'Filled_Extract'))\n",
    "\n",
    "with arcpy.EnvManager(scratchWorkspace=dataDIR):\n",
    "  out_multiband_raster = arcpy.sa.PrincipalComponents(\n",
    "    in_raster_bands=\"Filled_Composite\",\n",
    "    number_components=band_n,\n",
    "    out_data_file='pca_data.txt'\n",
    "  )\n",
    "out_multiband_raster.save(os.path.join(gdbDIR, 'Princip_Composite'))\n"
   ]
  },
  {
   "cell_type": "code",
   "execution_count": null,
   "id": "deb01175-ce63-494e-8fef-3e991f4de0c5",
   "metadata": {},
   "outputs": [],
   "source": []
  }
 ],
 "metadata": {
  "kernelspec": {
   "display_name": "Python 3 (ipykernel)",
   "language": "python",
   "name": "python3"
  },
  "language_info": {
   "codemirror_mode": {
    "name": "ipython",
    "version": 3
   },
   "file_extension": ".py",
   "mimetype": "text/x-python",
   "name": "python",
   "nbconvert_exporter": "python",
   "pygments_lexer": "ipython3",
   "version": "3.11.11"
  }
 },
 "nbformat": 4,
 "nbformat_minor": 5
}
