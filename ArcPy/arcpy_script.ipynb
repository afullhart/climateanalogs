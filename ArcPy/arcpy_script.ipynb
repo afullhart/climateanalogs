{
 "cells": [
  {
   "cell_type": "code",
   "execution_count": null,
   "id": "13a76592-f88d-49a3-8959-715f201c1b69",
   "metadata": {},
   "outputs": [],
   "source": [
    "%reset -f"
   ]
  },
  {
   "cell_type": "code",
   "execution_count": null,
   "id": "e65e43f1-cb24-42d9-9b2a-f8b8e67483cd",
   "metadata": {},
   "outputs": [],
   "source": [
    "%pwd"
   ]
  },
  {
   "cell_type": "code",
   "execution_count": null,
   "id": "4712564d-5e4d-422b-8b91-cbcd7361ee03",
   "metadata": {},
   "outputs": [],
   "source": [
    "%%javascript\n",
    "document.addEventListener('keydown', function(e) {\n",
    "  if (e.key === 'F12') {\n",
    "    e.preventDefault()\n",
    "    if (document.fullscreenElement) {\n",
    "      document.exitFullscreen();\n",
    "    } else {\n",
    "      document.documentElement.requestFullscreen();\n",
    "    }\n",
    "  }\n",
    "});\n"
   ]
  },
  {
   "cell_type": "code",
   "execution_count": 16,
   "id": "9efac2a6-2e76-43b4-b716-b407fbea3950",
   "metadata": {},
   "outputs": [
    {
     "name": "stdout",
     "output_type": "stream",
     "text": [
      "23\n"
     ]
    }
   ],
   "source": [
    "import pandas as pd\n",
    "import arcpy\n",
    "import os\n",
    "\n",
    "myProject = 'MyProject1'\n",
    "projDIR = r'C:\\Users\\fullh\\Documents\\ArcGIS\\Projects\\{}'.format(myProject)\n",
    "dataDIR = r'C:\\Users\\fullh\\Documents\\ArcGIS\\Projects\\{}\\Data'.format(myProject)\n",
    "gdbDIR = r'C:\\Users\\fullh\\Documents\\ArcGIS\\Projects\\{}\\{}.gdb'.format(myProject, myProject)\n",
    "arcpy.env.overwriteOutput = True\n",
    "\n",
    "input_string = 'RAP_treNPP.tif;RAP_shrNPP.tif;RAP_pfgNPP.tif;RAP_ltr.tif;RAP_bgr.tif;RAP_afgNPP.tif;POL_ph.tif;POL_sand.tif;POL_om.tif;POL_ksat.tif;POL_clay.tif;POL_bd.tif;pmomx_1974_2013.tif;pmomn_1974_2013.tif;DEM_Slope.tif;DEM_Elev.tif;CCSM4_1974_2013_swe.tif;CCSM4_1974_2013_pet.tif;CCSM4_1974_2013_ndays.tif;CCSM4_1974_2013_ero.tif;CCSM4_1974_2013_consec.tif;tmean_1974_2013.tif;accm_1974_2013.tif'\n",
    "band_n = len(input_string.split(';'))\n",
    "print(band_n)"
   ]
  },
  {
   "cell_type": "code",
   "execution_count": null,
   "id": "76738e95-9aef-4a11-8dca-7f6421932e70",
   "metadata": {},
   "outputs": [],
   "source": [
    "\n",
    "arcpy.env.workspace = dataDIR\n",
    "\n",
    "with arcpy.EnvManager(scratchWorkspace=gdbDIR):\n",
    "  output_raster = arcpy.ia.RasterCalculator(\n",
    "    rasters=['CCSM4_1974_2013_ero.tif'],\n",
    "    input_names=['raster'],\n",
    "    expression='raster >= 0'\n",
    "  )\n",
    "output_raster.save(os.path.join(gdbDIR, 'clip_raster'))\n",
    "\n",
    "with arcpy.EnvManager(extent='MAXOF'):\n",
    "  arcpy.management.CompositeBands(\n",
    "    in_rasters=input_string,\n",
    "    out_raster=os.path.join(gdbDIR, 'CompositeBands')\n",
    "  )\n",
    "\n",
    "arcpy.env.workspace = gdbDIR\n",
    "\n",
    "with arcpy.EnvManager(outputZFlag='Disabled', outputMFlag='Disabled'):\n",
    "  arcpy.conversion.RasterToPolygon(\n",
    "    in_raster='clip_raster',\n",
    "    out_polygon_features=os.path.join(gdbDIR, 'clip_shape'),\n",
    "    simplify='SIMPLIFY',\n",
    "    raster_field='Value',\n",
    "    create_multipart_features='SINGLE_OUTER_PART',\n",
    "    max_vertices_per_feature=None\n",
    "  )\n",
    "\n",
    "with arcpy.EnvManager(scratchWorkspace=gdbDIR):\n",
    "  output_raster = arcpy.ia.RasterCalculator(\n",
    "    rasters=['CompositeBands'],\n",
    "    input_names=['raster'],\n",
    "    expression='raster * 1'\n",
    "  )\n",
    "output_raster.save(os.path.join(gdbDIR, 'NoData_Composite'))\n",
    "\n",
    "with arcpy.EnvManager(scratchWorkspace=gdbDIR):\n",
    "  output_raster = arcpy.ia.RasterCalculator(\n",
    "    rasters=['NoData_Composite'],\n",
    "    input_names=['raster'],\n",
    "    expression='Con(IsNull(raster),1,raster)'\n",
    "  )\n",
    "output_raster.save(os.path.join(gdbDIR, 'Filled_Composite'))\n",
    "\n",
    "with arcpy.EnvManager(scratchWorkspace=gdbDIR):\n",
    "  output_raster = arcpy.sa.ExtractByMask(\n",
    "    in_raster='Filled_Composite',\n",
    "    in_mask_data='clip_shape',\n",
    "    extraction_area='INSIDE',\n",
    "    analysis_extent='-120.004083333317 31.3333333333001 -102.995916734683 42.004083290617 GEOGCS[\"GCS_WGS_1984\",DATUM[\"D_WGS_1984\",SPHEROID[\"WGS_1984\",6378137.0,298.257223563]],PRIMEM[\"Greenwich\",0.0],UNIT[\"Degree\",0.0174532925199433]]'\n",
    "  )\n",
    "output_raster.save(os.path.join(gdbDIR, 'Filled_Extract'))\n",
    "\n",
    "with arcpy.EnvManager(scratchWorkspace=dataDIR):\n",
    "  out_multiband_raster = arcpy.sa.PrincipalComponents(\n",
    "    in_raster_bands='Filled_Composite',\n",
    "    number_components=band_n,\n",
    "    out_data_file='pca_info.txt'\n",
    "  )\n",
    "out_multiband_raster.save(os.path.join(gdbDIR, 'Princip_Composite'))\n",
    "\n"
   ]
  },
  {
   "cell_type": "code",
   "execution_count": 18,
   "id": "93af7087-09d2-4c6d-9a4c-5bc222e33130",
   "metadata": {},
   "outputs": [
    {
     "name": "stdout",
     "output_type": "stream",
     "text": [
      "Index: 12, Column: 22, Value: 6.0758612631009905\n",
      "Index: 17, Column: 20, Value: 21.24377745328055\n",
      "Index: 20, Column: 17, Value: 21.24377745328055\n",
      "Index: 22, Column: 12, Value: 6.0758612631009905\n"
     ]
    }
   ],
   "source": [
    "\n",
    "with open(os.path.join(projDIR, 'pca_info.txt')) as f:\n",
    "  lines = f.readlines()\n",
    "\n",
    "for i, line in enumerate(lines):\n",
    "  if 'CORRELATION MATRIX' in line:\n",
    "    hdr_line_idx = i\n",
    "    for j, l in enumerate(lines[hdr_line_idx:]):\n",
    "      if '#  ========' in l:\n",
    "        ftr_line_idx = hdr_line_idx + j\n",
    "        break\n",
    "    break\n",
    "\n",
    "start_idx = hdr_line_idx + 4\n",
    "end_idx = ftr_line_idx - 1\n",
    "\n",
    "corr_m_lines = lines[start_idx:end_idx + 1]\n",
    "\n",
    "corr_data = []\n",
    "for l in corr_m_lines:\n",
    "  row = l.split()\n",
    "  corr_data.append([float(x) for x in row[1:]])\n",
    "\n",
    "corr_df = pd.DataFrame(corr_data)\n",
    "\n",
    "def vif_fn(x):\n",
    "  if x != 1:\n",
    "    vif = (1)/(1 - x**2)\n",
    "  else:\n",
    "    vif = 0\n",
    "  return vif\n",
    "\n",
    "vif_df = corr_df.map(vif_fn)\n",
    "\n",
    "high_value_mask = vif_df >= 5\n",
    "stacked_mask = high_value_mask.stack()\n",
    "result = stacked_mask[stacked_mask]\n",
    "\n",
    "for (index, col), _ in result.items():\n",
    "  print(f\"Index: {index}, Column: {col}, Value: {vif_df.loc[index, col]}\")\n",
    "\n"
   ]
  },
  {
   "cell_type": "code",
   "execution_count": null,
   "id": "4099314a-628f-4425-982c-e9e449ac15d7",
   "metadata": {},
   "outputs": [],
   "source": []
  }
 ],
 "metadata": {
  "kernelspec": {
   "display_name": "Python 3 (ipykernel)",
   "language": "python",
   "name": "python3"
  },
  "language_info": {
   "codemirror_mode": {
    "name": "ipython",
    "version": 3
   },
   "file_extension": ".py",
   "mimetype": "text/x-python",
   "name": "python",
   "nbconvert_exporter": "python",
   "pygments_lexer": "ipython3",
   "version": "3.11.11"
  }
 },
 "nbformat": 4,
 "nbformat_minor": 5
}
